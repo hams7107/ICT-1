{
  "nbformat": 4,
  "nbformat_minor": 0,
  "metadata": {
    "colab": {
      "provenance": [],
      "authorship_tag": "ABX9TyOm5lguUccGwgKK2MoKEGB4",
      "include_colab_link": true
    },
    "kernelspec": {
      "name": "python3",
      "display_name": "Python 3"
    },
    "language_info": {
      "name": "python"
    }
  },
  "cells": [
    {
      "cell_type": "markdown",
      "metadata": {
        "id": "view-in-github",
        "colab_type": "text"
      },
      "source": [
        "<a href=\"https://colab.research.google.com/github/hams7107/ICT-1/blob/main/ICT_1.ipynb\" target=\"_parent\"><img src=\"https://colab.research.google.com/assets/colab-badge.svg\" alt=\"Open In Colab\"/></a>"
      ]
    },
    {
      "cell_type": "code",
      "execution_count": null,
      "metadata": {
        "id": "BgRapzaykuQA",
        "colab": {
          "base_uri": "https://localhost:8080/"
        },
        "outputId": "e5c65dec-40bf-4847-84ab-651a8b7b8cb2"
      },
      "outputs": [
        {
          "output_type": "stream",
          "name": "stdout",
          "text": [
            "Select operation:\n",
            "1. Add\n",
            "2. Subtract\n",
            "3. Multiply\n",
            "4. Divide\n",
            "5. Exit\n",
            "Enter choice (1-5): 1\n",
            "Enter number: 10\n",
            "Enter number: 20\n",
            "Result: 30.0\n",
            "Select operation:\n",
            "1. Add\n",
            "2. Subtract\n",
            "3. Multiply\n",
            "4. Divide\n",
            "5. Exit\n",
            "Enter choice (1-5): 5\n",
            "Exiting calculator.\n"
          ]
        }
      ],
      "source": [
        "\n",
        "class Calculator:\n",
        "  def __init__(self):\n",
        "    self.result = 0\n",
        "\n",
        "  def add(self, a,b):\n",
        "    self.result= a+b\n",
        "    print(\"Result:\", self.result)\n",
        "\n",
        "  def subtract(self, a,b):\n",
        "    self.result = a-b\n",
        "    print(\"Result:\", self.result)\n",
        "\n",
        "  def multiply(self, a,b):\n",
        "    self.result = a*b\n",
        "    print(\"Result:\", self.result)\n",
        "\n",
        "  def divide(self, a,b):\n",
        "    self.result = a/b\n",
        "    print(\"Result:\", self.result)\n",
        "\n",
        "calc = Calculator()\n",
        "\n",
        "while True:\n",
        "  print(\"Select operation:\")\n",
        "  print(\"1. Add\")\n",
        "  print(\"2. Subtract\")\n",
        "  print(\"3. Multiply\")\n",
        "  print(\"4. Divide\")\n",
        "  print(\"5. Exit\")\n",
        "\n",
        "  choice = input(\"Enter choice (1-5): \")\n",
        "\n",
        "  if choice == '1':\n",
        "    a = float(input(\"Enter number: \"))\n",
        "    b = float(input(\"Enter number: \"))\n",
        "    calc.add(a,b)\n",
        "\n",
        "  elif choice == '2':\n",
        "    a = float(input(\"Enter number: \"))\n",
        "    b = float(input(\"Enter number: \"))\n",
        "    calc.subtract(a,b)\n",
        "\n",
        "  elif choice == '3':\n",
        "    a = float(input(\"Enter number: \"))\n",
        "    b = float(input(\"Enter number: \"))\n",
        "    calc.multiply(a,b)\n",
        "\n",
        "  elif choice == '4':\n",
        "    a = float(input(\"Enter number: \"))\n",
        "    b= float(input(\"Enter number: \"))\n",
        "    calc.divide(a,b)\n",
        "\n",
        "  elif choice == '5':\n",
        "    print(\"Exiting calculator.\")\n",
        "    break\n",
        "  else:\n",
        "    print(\"Invalid choice.\")\n"
      ]
    },
    {
      "cell_type": "code",
      "source": [
        "# prompt: calculator using classes from input expression with operation implemented without library functions\n",
        "\n",
        "class Calculator:\n",
        "    def __init__(self, expression):\n",
        "        self.expression = expression\n",
        "\n",
        "    def calculate(self):\n",
        "        operators = ['+', '-', '*', '/']\n",
        "        operands = []\n",
        "        current_operand = ''\n",
        "\n",
        "        for char in self.expression:\n",
        "            if char in operators:\n",
        "                operands.append(int(current_operand))\n",
        "                operands.append(char)\n",
        "                current_operand = ''\n",
        "            else:\n",
        "                current_operand += char\n",
        "\n",
        "        operands.append(int(current_operand))\n",
        "\n",
        "        result = operands[0]\n",
        "        for i in range(1, len(operands), 2):\n",
        "            operator = operands[i]\n",
        "            operand = operands[i + 1]\n",
        "            if operator == '+':\n",
        "                result += operand\n",
        "            elif operator == '-':\n",
        "                result -= operand\n",
        "            elif operator == '*':\n",
        "                result *= operand\n",
        "            elif operator == '/':\n",
        "                result //= operand\n",
        "\n",
        "        return result\n",
        "\n",
        "\n",
        "if __name__ == \"__main__\":\n",
        "    expression = input(\"Enter expression: \")\n",
        "    calculator = Calculator(expression)\n",
        "    result = calculator.calculate()\n",
        "    print(\"Result:\", result)\n"
      ],
      "metadata": {
        "id": "gWrCU1XQn9Dd"
      },
      "execution_count": null,
      "outputs": []
    },
    {
      "cell_type": "code",
      "source": [
        "import nltk\n",
        "nltk.download('stopwords')\n",
        "nltk.download('punkt')\n"
      ],
      "metadata": {
        "id": "i2IISEvmjcwb",
        "colab": {
          "base_uri": "https://localhost:8080/"
        },
        "outputId": "4de87350-672d-47b4-ca13-30d19ee194ee"
      },
      "execution_count": 2,
      "outputs": [
        {
          "output_type": "stream",
          "name": "stderr",
          "text": [
            "[nltk_data] Downloading package stopwords to /root/nltk_data...\n",
            "[nltk_data]   Unzipping corpora/stopwords.zip.\n",
            "[nltk_data] Downloading package punkt to /root/nltk_data...\n",
            "[nltk_data]   Unzipping tokenizers/punkt.zip.\n"
          ]
        },
        {
          "output_type": "execute_result",
          "data": {
            "text/plain": [
              "True"
            ]
          },
          "metadata": {},
          "execution_count": 2
        }
      ]
    },
    {
      "cell_type": "code",
      "source": [
        "\n",
        "# importing libraries\n",
        "import nltk\n",
        "from nltk.corpus import stopwords\n",
        "from nltk.tokenize import word_tokenize, sent_tokenize\n",
        "\n",
        " # Input text - to summarize\n",
        "text =input(\"Enter the text to be summarized:\\n\")\n",
        "\n",
        "# Tokenizing the text\n",
        "stopWords = set(stopwords.words(\"english\"))\n",
        "words = word_tokenize(text)\n",
        "\n",
        "# Creating a frequency table to keep the\n",
        "# score of each word\n",
        "\n",
        "freqTable = dict()\n",
        "for word in words:\n",
        "    word = word.lower()\n",
        "    if word in stopWords:\n",
        "        continue\n",
        "    if word in freqTable:\n",
        "        freqTable[word] += 1\n",
        "    else:\n",
        "        freqTable[word] = 1\n",
        "\n",
        "# Creating a dictionary to keep the score\n",
        "# of each sentence\n",
        "sentences = sent_tokenize(text)\n",
        "sentenceValue = dict()\n",
        "\n",
        "for sentence in sentences:\n",
        "    for word, freq in freqTable.items():\n",
        "        if word in sentence.lower():\n",
        "            if sentence in sentenceValue:\n",
        "                sentenceValue[sentence] += freq\n",
        "            else:\n",
        "                sentenceValue[sentence] = freq\n",
        "\n",
        "\n",
        "\n",
        "sumValues = 0\n",
        "for sentence in sentenceValue:\n",
        "  sumValues+= sentenceValue[sentence]\n",
        "  average =int(sumValues / len(sentenceValue))\n",
        "\n",
        "# Storing sentences into our summary.\n",
        "summary = ''\n",
        "for sentence in sentences:\n",
        "    if (sentence in sentenceValue) and (sentenceValue[sentence] > (1.2 * average)):\n",
        "        summary += \"\" + sentence\n",
        "print(\"Summarized text:\\n\",summary)\n",
        "\n",
        "\n"
      ],
      "metadata": {
        "colab": {
          "base_uri": "https://localhost:8080/"
        },
        "id": "00blEUMt4DlL",
        "outputId": "8ff86a64-abac-4e3b-cebe-a8a30a256b1c"
      },
      "execution_count": 15,
      "outputs": [
        {
          "output_type": "stream",
          "name": "stdout",
          "text": [
            "Enter the text to be summarized:\n",
            "Machine learning has given the computer systems the abilities to automatically learn without being explicitly programmed. But how does a machine learning system work? So, it can be described using the life cycle of machine learning. Machine learning life cycle is a cyclic process to build an efficient machine learning project. The main purpose of the life cycle is to find a solution to the problem or project.\n",
            "Summarized text:\n",
            " Machine learning life cycle is a cyclic process to build an efficient machine learning project.\n"
          ]
        }
      ]
    },
    {
      "cell_type": "code",
      "source": [],
      "metadata": {
        "id": "UBJAhUh-5wiz"
      },
      "execution_count": null,
      "outputs": []
    },
    {
      "cell_type": "code",
      "source": [],
      "metadata": {
        "id": "l1wkfbFe6rtM"
      },
      "execution_count": null,
      "outputs": []
    }
  ]
}